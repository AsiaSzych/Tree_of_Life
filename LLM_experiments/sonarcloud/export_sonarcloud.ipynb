{
 "cells": [
  {
   "cell_type": "code",
   "execution_count": 23,
   "metadata": {},
   "outputs": [],
   "source": [
    "import requests\n",
    "import csv\n",
    "import os\n",
    "import json"
   ]
  },
  {
   "cell_type": "code",
   "execution_count": 24,
   "metadata": {},
   "outputs": [],
   "source": [
    "with open(\"./sonar_token.json\", 'r') as f:\n",
    "    api_keys = json.loads(f.read())"
   ]
  },
  {
   "cell_type": "code",
   "execution_count": 25,
   "metadata": {},
   "outputs": [],
   "source": [
    "# === CONFIG ===\n",
    "SONARCLOUD_TOKEN = api_keys[\"SONARCLOUD\"]  \n",
    "SONAR_PROJECT_KEY = \"AsiaSzych_Tree_of_Life\"  \n",
    "OUTPUT_SUMMARY_FILE = \"sonarcloud_metrics.csv\"\n",
    "OUTPUT_DETAILS_DIR = \".\"\n",
    "BASE_URL = \"https://sonarcloud.io/api\""
   ]
  },
  {
   "cell_type": "code",
   "execution_count": 53,
   "metadata": {},
   "outputs": [],
   "source": [
    "METRICS = [\n",
    "    \"bugs\",\n",
    "    \"vulnerabilities\",\n",
    "    \"code_smells\",\n",
    "    \"coverage\",\n",
    "    \"duplicated_lines_density\",\n",
    "    \"ncloc\",  # lines of code\n",
    "    \"sqale_index\",            # debt in minutes\n",
    "    \"sqale_debt_ratio\",       # % debt\n",
    "    \"security_hotspots\"\n",
    "]"
   ]
  },
  {
   "cell_type": "code",
   "execution_count": 27,
   "metadata": {},
   "outputs": [],
   "source": [
    "def get_all_branches(project_key):\n",
    "    url = f\"{BASE_URL}/project_branches/list?project={project_key}\"\n",
    "    response = requests.get(url, auth=(SONARCLOUD_TOKEN, \"\"))\n",
    "    response.raise_for_status()\n",
    "    branches = response.json()[\"branches\"]\n",
    "    return [b[\"name\"] for b in branches]"
   ]
  },
  {
   "cell_type": "code",
   "execution_count": 28,
   "metadata": {},
   "outputs": [],
   "source": [
    "def get_metrics(project_key, branch):\n",
    "    url = f\"{BASE_URL}/measures/component\"\n",
    "    params = {\n",
    "        \"component\": project_key,\n",
    "        \"metricKeys\": \",\".join(METRICS),\n",
    "        \"branch\": branch\n",
    "    }\n",
    "    response = requests.get(url, auth=(SONARCLOUD_TOKEN, \"\"), params=params)\n",
    "    response.raise_for_status()\n",
    "    measures = response.json().get(\"component\", {}).get(\"measures\", [])\n",
    "    return {m[\"metric\"]: m[\"value\"] for m in measures}"
   ]
  },
  {
   "cell_type": "code",
   "execution_count": 29,
   "metadata": {},
   "outputs": [],
   "source": [
    "def get_issues(project_key, branch):\n",
    "    all_issues = []\n",
    "    page = 1\n",
    "    page_size = 50  \n",
    "\n",
    "    while True:\n",
    "        url = f\"{BASE_URL}/issues/search\"\n",
    "        params = {\n",
    "            \"componentKeys\": project_key,\n",
    "            \"branch\": branch,\n",
    "            \"ps\": page_size,\n",
    "            \"p\": page\n",
    "        }\n",
    "        response = requests.get(url, auth=(SONARCLOUD_TOKEN, \"\"), params=params)\n",
    "        response.raise_for_status()\n",
    "        result = response.json()\n",
    "\n",
    "        issues = result.get(\"issues\", [])\n",
    "        all_issues.extend(issues)\n",
    "\n",
    "        if page * page_size >= result.get(\"total\", 0):\n",
    "            break\n",
    "        page += 1\n",
    "\n",
    "    return all_issues"
   ]
  },
  {
   "cell_type": "code",
   "execution_count": 30,
   "metadata": {},
   "outputs": [],
   "source": [
    "def export_summary_csv(project_key, branches):\n",
    "    with open(OUTPUT_SUMMARY_FILE, mode=\"w\", newline=\"\") as file:\n",
    "        writer = csv.DictWriter(file, fieldnames=[\"branch\"] + METRICS)\n",
    "        writer.writeheader()\n",
    "\n",
    "        for branch in branches:\n",
    "            print(f\"Exporting summary metrics for branch: {branch}\")\n",
    "            data = get_metrics(project_key, branch)\n",
    "            row = {\"branch\": branch}\n",
    "            row.update(data)\n",
    "            writer.writerow(row)"
   ]
  },
  {
   "cell_type": "code",
   "execution_count": 31,
   "metadata": {},
   "outputs": [],
   "source": [
    "def export_detailed_issues(project_key, branches):\n",
    "    os.makedirs(OUTPUT_DETAILS_DIR, exist_ok=True)\n",
    "\n",
    "    for branch in branches:\n",
    "        print(f\"Exporting detailed issues for branch: {branch}\")\n",
    "        issues = get_issues(project_key, branch)\n",
    "\n",
    "        processed = [\n",
    "            {\n",
    "                \"key\": i.get(\"key\"),\n",
    "                \"type\": i.get(\"type\"),\n",
    "                \"severity\": i.get(\"severity\"),\n",
    "                \"component\": i.get(\"component\"),\n",
    "                \"line\": i.get(\"line\"),\n",
    "                \"message\": i.get(\"message\"),\n",
    "                \"status\": i.get(\"status\"),\n",
    "                \"creationDate\": i.get(\"creationDate\"),\n",
    "                \"updateDate\": i.get(\"updateDate\"),\n",
    "                \"rule\": i.get(\"rule\"),\n",
    "            }\n",
    "            for i in issues\n",
    "        ]\n",
    "\n",
    "        filename = f\"{branch}_issues.json\".replace(\"/\", \"_\")\n",
    "        filepath = os.path.join(OUTPUT_DETAILS_DIR, filename)\n",
    "\n",
    "        with open(filepath, \"w\", encoding=\"utf-8\") as f:\n",
    "            json.dump(processed, f, indent=2)"
   ]
  },
  {
   "cell_type": "code",
   "execution_count": 32,
   "metadata": {},
   "outputs": [],
   "source": [
    "def export_issue_severity_breakdown(project_key, branches, output_csv=\"issue_severity_summary.csv\"):\n",
    "    rows = []\n",
    "    for branch in branches:\n",
    "        print(f\"Gathering severity breakdown for branch: {branch}\")\n",
    "        page = 1\n",
    "        page_size = 500\n",
    "        total_issues = []\n",
    "\n",
    "        while True:\n",
    "            url = f\"{BASE_URL}/issues/search\"\n",
    "            params = {\n",
    "                \"componentKeys\": project_key,\n",
    "                \"branch\": branch,\n",
    "                \"ps\": page_size,\n",
    "                \"p\": page\n",
    "            }\n",
    "            response = requests.get(url, auth=(SONARCLOUD_TOKEN, \"\"), params=params)\n",
    "            response.raise_for_status()\n",
    "            result = response.json()\n",
    "\n",
    "            issues = result.get(\"issues\", [])\n",
    "            total_issues.extend(issues)\n",
    "\n",
    "            if page * page_size >= result.get(\"total\", 0):\n",
    "                break\n",
    "            page += 1\n",
    "\n",
    "        # Tally issues by type and severity\n",
    "        counts = {}\n",
    "        for issue in total_issues:\n",
    "            issue_type = issue.get(\"type\", \"UNKNOWN\")\n",
    "            severity = issue.get(\"severity\", \"UNKNOWN\")\n",
    "            key = (issue_type, severity)\n",
    "            counts[key] = counts.get(key, 0) + 1\n",
    "\n",
    "        # Prepare rows for this branch\n",
    "        for (issue_type, severity), count in counts.items():\n",
    "            rows.append({\n",
    "                \"branch\": branch,\n",
    "                \"issue_type\": issue_type,\n",
    "                \"severity\": severity,\n",
    "                \"count\": count\n",
    "            })\n",
    "\n",
    "    # Export to CSV\n",
    "    with open(output_csv, mode=\"w\", newline=\"\") as file:\n",
    "        writer = csv.DictWriter(file, fieldnames=[\"branch\", \"issue_type\", \"severity\", \"count\"])\n",
    "        writer.writeheader()\n",
    "        writer.writerows(rows)"
   ]
  },
  {
   "cell_type": "code",
   "execution_count": 33,
   "metadata": {},
   "outputs": [
    {
     "name": "stdout",
     "output_type": "stream",
     "text": [
      "Found 19 branches: ['python_claude_3', 'python_claude_2', 'python_claude_1', 'python_deepseek_3', 'python_deepseek_2', 'python_deepseek_1', 'python_gpt_3', 'python_gpt_2', 'python_gpt_1', 'java_claude_3', 'java_claude_2', 'java_claude_1', 'java_deepseek_3', 'java_deepseek_2', 'java_deepseek_1', 'java_gpt_3', 'java_gpt_2', 'java_gpt_1', 'main']\n"
     ]
    }
   ],
   "source": [
    "\n",
    "branches = get_all_branches(SONAR_PROJECT_KEY)\n",
    "print(f\"Found {len(branches)} branches: {branches}\")\n"
   ]
  },
  {
   "cell_type": "code",
   "execution_count": 54,
   "metadata": {},
   "outputs": [
    {
     "name": "stdout",
     "output_type": "stream",
     "text": [
      "Exporting summary metrics for branch: python_claude_3\n",
      "Exporting summary metrics for branch: python_claude_2\n",
      "Exporting summary metrics for branch: python_claude_1\n",
      "Exporting summary metrics for branch: python_deepseek_3\n",
      "Exporting summary metrics for branch: python_deepseek_2\n",
      "Exporting summary metrics for branch: python_deepseek_1\n",
      "Exporting summary metrics for branch: python_gpt_3\n",
      "Exporting summary metrics for branch: python_gpt_2\n",
      "Exporting summary metrics for branch: python_gpt_1\n",
      "Exporting summary metrics for branch: java_claude_3\n",
      "Exporting summary metrics for branch: java_claude_2\n",
      "Exporting summary metrics for branch: java_claude_1\n",
      "Exporting summary metrics for branch: java_deepseek_3\n",
      "Exporting summary metrics for branch: java_deepseek_2\n",
      "Exporting summary metrics for branch: java_deepseek_1\n",
      "Exporting summary metrics for branch: java_gpt_3\n",
      "Exporting summary metrics for branch: java_gpt_2\n",
      "Exporting summary metrics for branch: java_gpt_1\n",
      "Exporting summary metrics for branch: main\n",
      "Export of summary CSV done!\n"
     ]
    }
   ],
   "source": [
    "export_summary_csv(SONAR_PROJECT_KEY, branches)\n",
    "print(f\"Export of summary CSV done!\")"
   ]
  },
  {
   "cell_type": "code",
   "execution_count": 35,
   "metadata": {},
   "outputs": [
    {
     "name": "stdout",
     "output_type": "stream",
     "text": [
      "Gathering severity breakdown for branch: python_claude_2\n",
      "Gathering severity breakdown for branch: python_claude_1\n",
      "Gathering severity breakdown for branch: python_deepseek_3\n",
      "Gathering severity breakdown for branch: python_deepseek_2\n",
      "Gathering severity breakdown for branch: python_deepseek_1\n",
      "Gathering severity breakdown for branch: python_gpt_3\n",
      "Gathering severity breakdown for branch: python_gpt_2\n",
      "Gathering severity breakdown for branch: python_gpt_1\n",
      "Gathering severity breakdown for branch: java_claude_3\n",
      "Gathering severity breakdown for branch: java_claude_2\n",
      "Gathering severity breakdown for branch: java_claude_1\n",
      "Gathering severity breakdown for branch: java_deepseek_3\n",
      "Gathering severity breakdown for branch: java_deepseek_2\n",
      "Gathering severity breakdown for branch: java_deepseek_1\n",
      "Gathering severity breakdown for branch: java_gpt_3\n",
      "Gathering severity breakdown for branch: java_gpt_2\n",
      "Gathering severity breakdown for branch: java_gpt_1\n",
      "Gathering severity breakdown for branch: main\n",
      "Export of severity breakdown CSV done!\n"
     ]
    }
   ],
   "source": [
    "export_issue_severity_breakdown(SONAR_PROJECT_KEY, branches[1:])\n",
    "print(f\"Export of severity breakdown CSV done!\")"
   ]
  },
  {
   "cell_type": "code",
   "execution_count": 36,
   "metadata": {},
   "outputs": [
    {
     "name": "stdout",
     "output_type": "stream",
     "text": [
      "Exporting detailed issues for branch: python_claude_2\n",
      "Exporting detailed issues for branch: python_claude_1\n",
      "Exporting detailed issues for branch: python_deepseek_3\n",
      "Exporting detailed issues for branch: python_deepseek_2\n",
      "Exporting detailed issues for branch: python_deepseek_1\n",
      "Exporting detailed issues for branch: python_gpt_3\n",
      "Exporting detailed issues for branch: python_gpt_2\n",
      "Exporting detailed issues for branch: python_gpt_1\n",
      "Exporting detailed issues for branch: java_claude_3\n",
      "Exporting detailed issues for branch: java_claude_2\n",
      "Exporting detailed issues for branch: java_claude_1\n",
      "Exporting detailed issues for branch: java_deepseek_3\n",
      "Exporting detailed issues for branch: java_deepseek_2\n",
      "Exporting detailed issues for branch: java_deepseek_1\n",
      "Exporting detailed issues for branch: java_gpt_3\n",
      "Exporting detailed issues for branch: java_gpt_2\n",
      "Exporting detailed issues for branch: java_gpt_1\n",
      "Exporting detailed issues for branch: main\n",
      "Export of detailed issues done!\n"
     ]
    }
   ],
   "source": [
    "export_detailed_issues(SONAR_PROJECT_KEY, branches[1:])\n",
    "print(f\"Export of detailed issues done!\")"
   ]
  }
 ],
 "metadata": {
  "kernelspec": {
   "display_name": "tree_of_life_base",
   "language": "python",
   "name": "python3"
  },
  "language_info": {
   "codemirror_mode": {
    "name": "ipython",
    "version": 3
   },
   "file_extension": ".py",
   "mimetype": "text/x-python",
   "name": "python",
   "nbconvert_exporter": "python",
   "pygments_lexer": "ipython3",
   "version": "3.11.11"
  }
 },
 "nbformat": 4,
 "nbformat_minor": 2
}
