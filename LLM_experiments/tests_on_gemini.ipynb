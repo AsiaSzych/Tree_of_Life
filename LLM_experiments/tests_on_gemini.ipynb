{
 "cells": [
  {
   "cell_type": "code",
   "execution_count": 7,
   "metadata": {},
   "outputs": [],
   "source": [
    "import os\n",
    "import json\n",
    "import uuid\n",
    "import yaml\n",
    "from langchain_core.chat_history import InMemoryChatMessageHistory\n",
    "from langchain.prompts import ChatPromptTemplate, MessagesPlaceholder, HumanMessagePromptTemplate\n",
    "from langchain_google_genai import ChatGoogleGenerativeAI\n",
    "from langchain_core.runnables.history import RunnableWithMessageHistory\n"
   ]
  },
  {
   "cell_type": "code",
   "execution_count": 8,
   "metadata": {},
   "outputs": [],
   "source": [
    "with open(\"./api_keys.json\", 'r') as f:\n",
    "    api_keys = json.loads(f.read())\n",
    "\n",
    "for key in api_keys.keys():\n",
    "    os.environ[key] = api_keys[key]"
   ]
  },
  {
   "cell_type": "code",
   "execution_count": 9,
   "metadata": {},
   "outputs": [],
   "source": [
    "gemini = ChatGoogleGenerativeAI(model=\"gemini-2.5-pro-preview-06-05\",temperature=0.2)\n",
    "testing_version = \"FreeText\""
   ]
  },
  {
   "cell_type": "code",
   "execution_count": 10,
   "metadata": {},
   "outputs": [],
   "source": [
    "def read_prompts(path_to_file:str, tested_version:str):\n",
    "    with open(path_to_file, \"r\") as f:\n",
    "        prompt_data = yaml.safe_load(f)\n",
    "    prompt_list=[]\n",
    "    for task in prompt_data[\"tasks\"]:\n",
    "        for v in task[\"versions\"]:\n",
    "            if v[\"version\"] == tested_version:\n",
    "                prompt_list.append(v[\"text\"])\n",
    "    return prompt_list"
   ]
  },
  {
   "cell_type": "code",
   "execution_count": 11,
   "metadata": {},
   "outputs": [],
   "source": [
    "chat_prompt = ChatPromptTemplate.from_messages([\n",
    "    MessagesPlaceholder(variable_name=\"history\"),\n",
    "    HumanMessagePromptTemplate.from_template(\"{input}\")\n",
    "])\n",
    "\n",
    "chain = chat_prompt | gemini #pipe style, replaces LLMChain()\n",
    "\n",
    "message_history = InMemoryChatMessageHistory()\n",
    "chain_with_memory = RunnableWithMessageHistory(\n",
    "    chain,\n",
    "    lambda session_id: message_history,\n",
    "    input_messages_key=\"input\",\n",
    "    history_messages_key=\"history\"\n",
    ")"
   ]
  },
  {
   "cell_type": "code",
   "execution_count": 12,
   "metadata": {},
   "outputs": [
    {
     "name": "stdout",
     "output_type": "stream",
     "text": [
      "Prompts loaded\n",
      "Executing prompts and collecting responses\n",
      "Executing prompt Hi, I'm a developer and I have a new project on my hands. I need to prepare a clustering algorithm for quite a specific input data. \n",
      "My input consists of DNA sequences for different species, for which I need to calculate the similarity using Needleman-Wunsch algorithm and the predefined dictionary of swapping scores. Having the scores for all pairs I need to build phylogenetic tree of species and draw a dendrogram representing this tree. At the end, I need to be able to calculate clusters of species depending on different thresholds. \n",
      "I will need your help in programming this solution. This needs to be a production ready project, so I need to have clean and efficient code. Can you repeat what have you understand from this description, and prepare a short outline of the most important aspects, so we're on the same page? \n",
      "\n",
      "Executing prompt Thanks! Now, let's shortly align technical expectations. I need this program to be written in python 3.11, but you can choose necessary libraries freely. I will be using pyenv to create the environment and pip to install packages. If anything is saved to the file system or read from it, you should start all the paths from current directory and eventually use subfolders. I need my code to follow PEP formatting standards. When providing me a code samples or scritps, always include name of the file in which the code should be put. Could you please confirm specified limitations? Do not generate any code yet.\n",
      "Executing prompt Great, let's start with the first task, which is calculation of Needleman-Wunsch algorithm. As you probably know, it is an algorithm often used to align protein or nucleotide sequences. We will be using it for a similar purpose, aligning DNA sequences consisting of building blocks known as amino acids, which, when decoded and strung together in sequence, form proteins.\n",
      "We have two input files. The first one is named \"organisms.json\" and it has a key-value structure with name of the species as a key, and its DNA string as a value, both key and value are of type string. Example structure of the \"organism.json\" file: ``` {\"Wild boar\": \"MTHQTHAYHMVNPSPWPLTGALSALLMTSGL\", \"Horse\": \"MTHQTHAYHMVNPSPWPLTGALSALLMT\"} ``` .\n",
      "The second one is called “blosumXX.json”, where \"XX\" will be either 50 or 62 representing blosum50 and blosum62 matrices, respectively. This will be used as a dictionary of switching scores for Needleman-Wunsch algorithm. This file also represents a key-value structure based on BLOSUM table, which represents the substitution matrix used for sequence alignment. In the file, key is of type string and value is numerical. Exemplary file structure looks like: ```{“a”: -1, “b”: -2, “ab”: -3, “ba\": -3, “aa”: 2, “bb”: 3} ```. A single character key represents the cost of deleting that character, while a key of two concatenated characters represents the cost of substituting one character for the other. Example above says that: deleting 'a' cost -1; deleting 'b' cost -2; swapping 'a' for 'b' or 'b' for 'a' cost -3; matching 'a' to 'a' scores +2; matching 'b' to 'b' scores +3.\n",
      "In my project I will need to calculate the Needleman-Wunsch score of aligning two DNA sequences, for many pair of species. Also, I will be using two different types of BLOSUM tables: BLOSUM50 and BLOSUM62. Created code can assume, that during one run only one type of blosum matrix will be used, but should be prepare to change the type of used matrix between different runs.\n",
      "Could you please summarize information I have given you until now? Do not generate any code yet, just provide a summary of what you understand from the description. \n",
      "\n",
      "Executing prompt Ok, now that you know what is the goal we can start coding. Please provide me a code that will read the data from both input files and for each pair of species from “organism.json” calculate a Needleman-Wunsch similarity score between their DNAs strings. Scores and penalties for matching and deleting should be assigned accordign to the data in “blosumXX.json” file. \n",
      "Exemplary test case for the created code: having one DNA string “aabaab” for key “testspecies1” and another DNA string “ababaa” for key “testspecies2”, with following data in the blosum.json file: {\"a\":-1, \"b\":-2, \"ab\":-3, \"ba\":-3, \"aa\":2, \"bb\":3}, the output of Needleman-Wunsch algorithm should be 7.\n",
      "Keep in mind that this is only the first task of the project. These scores will be later used for other alorithms, like tree creation, so they should be stored in a structure with fast access.\n",
      "You can create as many functions as needed for this task. Remember that the produced code should have production-ready quality.\n",
      "\n",
      "Executing prompt Thanks! Now I would need one modification to this code. Beside having Needleman-Wunsch scores calculated and stored inside the code, I also need to have them saved on the file system. Please add a modification that allows saving the calculated scores in a json file. The file should represent a key-value structure, where keys are created by concatenating names of the species in the pair using “_”, while value should be the Needleman-Wunsch algorithm result. \n",
      "As I mentioned previously, this should be albe to execute using two different \"blosumXX.json\" files on input. Respectively to which file is used, save the results to file called \"organisms_scores_bloumXX.json\".\n",
      "Still keep in mind that this is only intermediate step, not a final solution yet.  \n",
      "\n",
      "Executing prompt Great, thanks! Now it's time for the second task of the project. We can use calculated Needleman-Wunsch similarity scores as a proxy for overall siilarity between species and use them to build a \"tree of file\" from the bottom up. \n",
      "In this context, the tree will show branching in evolutionary history, and it is known as a Phylogenetic tree. To build it, we'll merge nodes together first that have the highest similarity score (highest Needleman-Wunsch algorithm result), and they will end up towards the bottom of the tree. Internal nodes can then be thought of as common ancestors, and eventually we will end up at a root which can be thought of as the origin of life.\n",
      "This is a similar task to performing an agglomerative hierarchical clustering, with single linkage methodology. However, in our case we're dealing with highest similarity, not the lowest distance - be aware of this fact, as most libraries operates on distances. It is extremly important to come up with solution that operates on similarity scores, because further parts of the project will perform operation on created tree assuming raw Needleman-Wush scores. \n",
      "For example in later step I will need to generate clusters of species for different threshold. Those thresholds will be chosen difectly from the range of Needleman-Wunsch scores saved in \"organisms_scores_blosumXX.json\" file - for example if the scores in this file range grom 800 to 1000, thresholds in \"thresholds.txt\" file can be 850, 910, 980. Be aware to prepare for such tasks, while creating a tree structure. \n",
      "Additionaly, in later tasks there will be a need to draw a dendrogram of this tree and also save it in text Newick format. \n",
      "That's an overall view of the next tasks, do not generate a code for with solution yet. For now please summarize what is the outline of this project, so we're on the same page.  \n",
      "\n",
      "Executing prompt OK, now that we have a common understanding let's start coding this solution. The first step is to create a tree structure that will represent the history of evolution of species. As previously explained, the tree should be created with a single-linage clustering method, using Neeldeman-Wush scores as similarity metric. \n",
      "It starts with having every organism from the keys of 'organisms.json' file as a separate entity. Next, based on the similarity scores calculated using Needleman-Wunsch approach, we merge them in twos starting from the most similar ones (higher needleman-wunsch score = more similar). \n",
      "During each merge new intermediate node is created, and it shoul have Neeldeman-Wunsch score assigned as its height. For example if species \"Horse\" and \"Dog\" have similarity score of 1200, the new intermediate node should have a height of 1200 (It will be important for drawing the dendrogram and cluster search). The tree build should result in creation of one final root node, that will represent common ancestor to all species. \n",
      "Please prepare a code that implements such a flow. The choices of libraries and structure are up to you, but rememer that next tasks will include drawing dendrogram of this tree and saving it to text Newick format. Also, keep in mind that the produced code should have production-ready quality.\n",
      "\n",
      "Executing prompt Great, since we now have a tree structure, let's save it to a Newick format. \n",
      "I will need a code that saves tree representation to two different versions of Newick format: \n",
      "first one that saves only nodes' names, for example: \"(A,B,(C,D)E)F;\" - this should be saved to a \"treeXX_newick.nw\", where XX represents version of blosum table that was used throught previous tasks; \n",
      "second one should save both nodes' names and distances in the tree, for example: \"(A:0.1,B:0.2,(C:0.3,D:0.4)E:0.5)F;\" - this should be saved to a \"treeXX_newick_with_distance.nw\", where XX represents version of blosum table that was used throught previous tasks.\n",
      "Please modify previously generated code to include this requirenment. \n",
      "\n",
      "Executing prompt Thanks! I also need to have a visual representation of created tree structure. Please prepare a code that draw a dendrogram of this tree and saves it to png file named \"phylogenetic_tree_blosumXX.png\", where XX represents version of blosum table that was used throught previous tasks.\n",
      "You can draw this dendrogram in any style you want, the only requirement is that it sould be lay out horizontally, and the x coordinates should be determined by the raw Needleman-Wunsch distances. \n",
      "\n",
      "Executing prompt Awesome, we're almost at the finish. The last task is to find out which species create clusters together based on specific threshold.\n",
      "There is an additional input file called \"thresholds.txt\", inside which in each line only one value is written, for example 1260. \n",
      "Each value in this file, represents a threshold for clustering where we can say that everything in the tree above this threshold is forgot and we check which leaf nodes still end up connected. Those conenctions forms clusters of leaf nodes, which I need this program to find out. \n",
      "As I previously mentioned, the range of threshold values will be from the same range as raw Needleman-Wunsch distances calculated ealier.\n",
      "This is a description of the last task to preform, please do not generate a code for it yet. Provide a summary with your understanding of this task.\n",
      "\n",
      "Executing prompt Great, so now let's create this last piece of code. I need you to add to the code, a modification that will read thresholds from \"thresholds.txt\" file, and for each of them calculate clusters of leaf nodes with names of species. Clusters should be stored as a list of lists, where each inner list represent one cluster.\n",
      "Print those results to standard output, but also save them to json file called \"clusters_for_blosumXX.json\", where XX represents version of blosum table that was used throught previous tasks. The file should store data in a key-value format, where key represents a threshold used and value is a list of lists representing created clusters.\n",
      "Remember that the produced code should have production-ready quality.\n",
      "\n",
      "Executing prompt This was the end of coding tasks for this project. Right now all functionalities should be covered. The final code should start with reading input “blosumXX.json” and “organism.json” files and at the end print clusters for thresholds from the \"thresholds.txt\" file to the standard output. Additionally, saving intermediate outputs as previously mentioned. This will be considered as a successful implementation. Remember that implemented solutions must be of high quality. Please check if all of this is covered.\n",
      "Executing prompt Thanks, we have quite a lot of code. I need to set it up in the repository. Can you please generate me an outline of what files I should have in the repository and which parts of the code provided by you should be in these files, so I could verify my set up?\n",
      "Executing prompt Ok, I have my files cleaned now. Can you please provide a requirements.txt file with all the necessary libraries so I would be able to create an environment for this code? Also, add a README.md file with description of the project and instruction how to run it.\n",
      "Executing prompt Please rate each of the previously send prompts in terms of clarity, completeness and unambiguity in the scale 1-5, where 1 is the lowest score and 5 the highest. \n",
      "Clarity means that prompt was easy to understand and it was clear what should be provided as an answer. Completeness means that prompt did not lack any important informaton that needed to be \"assumed\" by you to provide the answer. Unambiguity means that there was only one way to understand the task. After scoring each prompt, give me an average score for each category. \n",
      "\n",
      "Executing prompt Based on your ratings, please provide a short recommendation of how the prompts could be improved to generate better results.\n",
      "Prompt execution finished\n",
      "Result saved to file\n"
     ]
    }
   ],
   "source": [
    "prompts = read_prompts(\"./prompts_tests.yaml\", testing_version)\n",
    "print(\"Prompts loaded\")\n",
    "markdown_output = [f\"# Tests of prompts for Conversational Code Generation - version {testing_version}\\n\"]\n",
    "\n",
    "print(\"Executing prompts and collecting responses\")\n",
    "for i, p in enumerate(prompts, start=1):\n",
    "    print(f\"Executing prompt {p}\")\n",
    "    result = chain_with_memory.invoke({\"input\": p},config={\"configurable\": {\"session_id\": str(uuid.uuid4())}})\n",
    "    markdown_output.append(f\"## Prompt number {i}\\n\")\n",
    "    markdown_output.append(f\"**User:** {p}\\n\")\n",
    "    markdown_output.append(f\"**LLM Response:**\\n\\n{result.content}\\n\")\n",
    "print(\"Prompt execution finished\")\n",
    "\n",
    "\n",
    "file_path = f\"./test_results/test_conversation_version_{testing_version}_v2.md\"\n",
    "with open(file_path, \"w\", encoding=\"utf-8\") as f:\n",
    "    f.write(\"\\n\".join(markdown_output))\n",
    "print(\"Result saved to file\")"
   ]
  }
 ],
 "metadata": {
  "kernelspec": {
   "display_name": "tree_of_life_base",
   "language": "python",
   "name": "python3"
  },
  "language_info": {
   "codemirror_mode": {
    "name": "ipython",
    "version": 3
   },
   "file_extension": ".py",
   "mimetype": "text/x-python",
   "name": "python",
   "nbconvert_exporter": "python",
   "pygments_lexer": "ipython3",
   "version": "3.11.11"
  }
 },
 "nbformat": 4,
 "nbformat_minor": 2
}
