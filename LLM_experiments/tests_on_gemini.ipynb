{
 "cells": [
  {
   "cell_type": "code",
   "execution_count": 1,
   "metadata": {},
   "outputs": [],
   "source": [
    "import os\n",
    "import json\n",
    "import uuid\n",
    "import yaml\n",
    "from langchain_core.chat_history import InMemoryChatMessageHistory\n",
    "from langchain.prompts import ChatPromptTemplate, MessagesPlaceholder, HumanMessagePromptTemplate\n",
    "from langchain_google_genai import ChatGoogleGenerativeAI\n",
    "from langchain_core.runnables.history import RunnableWithMessageHistory\n"
   ]
  },
  {
   "cell_type": "code",
   "execution_count": 2,
   "metadata": {},
   "outputs": [],
   "source": [
    "with open(\"./api_keys.json\", 'r') as f:\n",
    "    api_keys = json.loads(f.read())\n",
    "\n",
    "for key in api_keys.keys():\n",
    "    os.environ[key] = api_keys[key]"
   ]
  },
  {
   "cell_type": "code",
   "execution_count": 3,
   "metadata": {},
   "outputs": [],
   "source": [
    "gemini = ChatGoogleGenerativeAI(model=\"gemini-2.5-flash-preview-05-20\",temperature=0.2)\n",
    "testing_version = \"concise\""
   ]
  },
  {
   "cell_type": "code",
   "execution_count": 4,
   "metadata": {},
   "outputs": [],
   "source": [
    "def read_prompts(path_to_file:str, tested_version:str):\n",
    "    with open(path_to_file, \"r\") as f:\n",
    "        prompt_data = yaml.safe_load(f)\n",
    "    prompt_list=[]\n",
    "    for task in prompt_data[\"tasks\"]:\n",
    "        for v in task[\"versions\"]:\n",
    "            if v[\"version\"] == tested_version:\n",
    "                prompt_list.append(v[\"text\"])\n",
    "    return prompt_list"
   ]
  },
  {
   "cell_type": "code",
   "execution_count": 5,
   "metadata": {},
   "outputs": [],
   "source": [
    "chat_prompt = ChatPromptTemplate.from_messages([\n",
    "    MessagesPlaceholder(variable_name=\"history\"),\n",
    "    HumanMessagePromptTemplate.from_template(\"{input}\")\n",
    "])\n",
    "\n",
    "chain = chat_prompt | gemini #pipe style, replaces LLMChain()\n",
    "\n",
    "message_history = InMemoryChatMessageHistory()\n",
    "chain_with_memory = RunnableWithMessageHistory(\n",
    "    chain,\n",
    "    lambda session_id: message_history,\n",
    "    input_messages_key=\"input\",\n",
    "    history_messages_key=\"history\"\n",
    ")"
   ]
  },
  {
   "cell_type": "code",
   "execution_count": 6,
   "metadata": {},
   "outputs": [
    {
     "name": "stdout",
     "output_type": "stream",
     "text": [
      "['Implement bubble sort in Python.', 'Read numeric values from a CSV file in Python.', 'Read numbers from CSV and sort them using bubble sort.']\n",
      "Executing prompts and collecting responses\n",
      "Prompt execution finished\n",
      "Result saved to file\n"
     ]
    }
   ],
   "source": [
    "prompts = read_prompts(\"./prompts_tests.yaml\", testing_version)\n",
    "print(prompts)\n",
    "markdown_output = [f\"# Tests of prompts for Conversational Code Generation - version {testing_version}\\n\"]\n",
    "\n",
    "print(\"Executing prompts and collecting responses\")\n",
    "for i, p in enumerate(prompts, start=1):\n",
    "    result = chain_with_memory.invoke({\"input\": p},config={\"configurable\": {\"session_id\": str(uuid.uuid4())}})\n",
    "    markdown_output.append(f\"## Prompt {i}\\n\")\n",
    "    markdown_output.append(f\"**User:** {p}\\n\")\n",
    "    markdown_output.append(f\"**LLM Response:**\\n\\n{result.content.strip()}\\n\")\n",
    "print(\"Prompt execution finished\")\n",
    "\n",
    "\n",
    "file_path = f\"./test_results/test_conversation_version_{testing_version}.md\"\n",
    "with open(file_path, \"w\", encoding=\"utf-8\") as f:\n",
    "    f.write(\"\\n\".join(markdown_output))\n",
    "print(\"Result saved to file\")"
   ]
  }
 ],
 "metadata": {
  "kernelspec": {
   "display_name": "tree_of_life_base",
   "language": "python",
   "name": "python3"
  },
  "language_info": {
   "codemirror_mode": {
    "name": "ipython",
    "version": 3
   },
   "file_extension": ".py",
   "mimetype": "text/x-python",
   "name": "python",
   "nbconvert_exporter": "python",
   "pygments_lexer": "ipython3",
   "version": "3.11.11"
  }
 },
 "nbformat": 4,
 "nbformat_minor": 2
}
